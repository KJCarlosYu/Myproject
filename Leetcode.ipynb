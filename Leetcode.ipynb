{
  "cells": [
    {
      "cell_type": "markdown",
      "metadata": {
        "id": "view-in-github",
        "colab_type": "text"
      },
      "source": [
        "<a href=\"https://colab.research.google.com/github/KJCarlosYu/Myproject/blob/main/Leetcode.ipynb\" target=\"_parent\"><img src=\"https://colab.research.google.com/assets/colab-badge.svg\" alt=\"Open In Colab\"/></a>"
      ]
    },
    {
      "cell_type": "code",
      "execution_count": null,
      "metadata": {
        "id": "_zUs1KKbzXbB"
      },
      "outputs": [],
      "source": [
        "def addTwoNumbers(l1, l2):\n",
        "        \"\"\"\n",
        "        :type l1: ListNode\n",
        "        :type l2: ListNode\n",
        "        :rtype: ListNode\n",
        "        \"\"\"\n",
        "        result = []\n",
        "        total1 = 0\n",
        "        total2 = 0\n",
        "        for num,value in enumerate(l1):\n",
        "                total1 = total1 + value*10**num\n",
        "        for num,value in enumerate(l2):\n",
        "                total2 = total2 + value*10**num\n",
        "        sum = total1 + total2\n",
        "        for x in str(sum):\n",
        "                result.append(int(x))\n",
        "        return result[::-1]\n"
      ]
    },
    {
      "cell_type": "code",
      "execution_count": null,
      "metadata": {
        "id": "yfSpDJT1zXbH",
        "outputId": "d1b8b2e3-f1ac-42ae-cb98-db7e1b95dbc8"
      },
      "outputs": [
        {
          "data": {
            "text/plain": [
              "['12345']"
            ]
          },
          "execution_count": 3,
          "metadata": {},
          "output_type": "execute_result"
        }
      ],
      "source": [
        "str(12345).split()"
      ]
    },
    {
      "cell_type": "code",
      "execution_count": null,
      "metadata": {
        "id": "hAC8DnvazXbJ",
        "outputId": "37ae3f09-05f2-4ac4-f89d-103ed4a95b42"
      },
      "outputs": [
        {
          "data": {
            "text/plain": [
              "[8, 9, 9, 9, 0, 0, 0, 1]"
            ]
          },
          "execution_count": 4,
          "metadata": {},
          "output_type": "execute_result"
        }
      ],
      "source": [
        "addTwoNumbers([9,9,9,9,9,9,9],[9,9,9,9])"
      ]
    },
    {
      "cell_type": "code",
      "execution_count": null,
      "metadata": {
        "id": "2zZWkWEAzXbJ"
      },
      "outputs": [],
      "source": [
        "class Solution(object):\n",
        "    def addTwoNumbers(self, l1, l2):\n",
        "        \"\"\"\n",
        "        :type l1: ListNode\n",
        "        :type l2: ListNode\n",
        "        :rtype: ListNode\n",
        "        \"\"\"\n",
        "        result_head = ListNode()\n",
        "        current_node = result_head\n",
        "        carry = 0\n",
        "\n",
        "        while l1 or l2 or carry:\n",
        "            val1 = l1.val if l1 else 0\n",
        "            val2 = l2.val if l2 else 0\n",
        "\n",
        "            total = val1 + val2 + carry\n",
        "            carry = total // 10\n",
        "\n",
        "            current_node.next = ListNode(total % 10)\n",
        "            current_node = current_node.next\n",
        "\n",
        "            l1 = l1.next if l1 else None\n",
        "            l2 = l2.next if l2 else None\n",
        "\n",
        "        return result_head.next"
      ]
    },
    {
      "cell_type": "markdown",
      "metadata": {
        "id": "oHvh6NlnzXbL"
      },
      "source": [
        "# Longest substring without repeating characters"
      ]
    },
    {
      "cell_type": "code",
      "execution_count": null,
      "metadata": {
        "id": "a2AFu3xhzXbN"
      },
      "outputs": [],
      "source": [
        "class Solution(object):\n",
        "    def lengthOfLongestSubstring(self, s):\n",
        "        \"\"\"\n",
        "        :type s: str\n",
        "        :rtype: int\n",
        "        \"\"\"\n",
        "        length = []\n",
        "        if len(s) == 0:\n",
        "            return 0\n",
        "        for num in range(len(s)):\n",
        "            long = 1\n",
        "            string= s[num]\n",
        "            for letter in s[num+1:]:\n",
        "                if letter not in string:\n",
        "                    long = long+1\n",
        "                    string = string + letter\n",
        "                    if len(string) == len(s[num:]):\n",
        "                        length.append(long)\n",
        "                        break\n",
        "                else:\n",
        "                    length.append(long)\n",
        "                    break\n",
        "        if length:\n",
        "            return max(length)\n",
        "        else:\n",
        "            return 1"
      ]
    },
    {
      "cell_type": "code",
      "execution_count": null,
      "metadata": {
        "id": "MS0c9K_VzXbO",
        "outputId": "c4e2ecd6-333a-4f84-a6ef-599cd715b762"
      },
      "outputs": [
        {
          "data": {
            "text/plain": [
              "1"
            ]
          },
          "execution_count": 7,
          "metadata": {},
          "output_type": "execute_result"
        }
      ],
      "source": [
        "solution = Solution()\n",
        "s = \" \"\n",
        "solution.lengthOfLongestSubstring(s)"
      ]
    },
    {
      "cell_type": "raw",
      "metadata": {
        "id": "6322P1ZzzXbP"
      },
      "source": [
        "length = []\n",
        "for num in range(len(a)):\n",
        "    long = 1\n",
        "    string= a[num]\n",
        "    for letter in a[num+1:]:\n",
        "        if letter not in string:\n",
        "            long = long+1\n",
        "            string = string + letter\n",
        "        else:\n",
        "            length.append(long)\n",
        "            break\n",
        "\n"
      ]
    },
    {
      "cell_type": "raw",
      "metadata": {
        "id": "U1c2sK63zXbQ"
      },
      "source": [
        "max(length)"
      ]
    },
    {
      "cell_type": "markdown",
      "metadata": {
        "id": "Ryw-sKPmzXbQ"
      },
      "source": [
        "## Sliding windows solution"
      ]
    },
    {
      "cell_type": "code",
      "execution_count": null,
      "metadata": {
        "id": "MTPGfcLCzXbR"
      },
      "outputs": [],
      "source": [
        "class Solution(object):\n",
        "    def lengthOfLongestSubstring(self, s):\n",
        "        \"\"\"\n",
        "        :type s: str\n",
        "        :rtype: int\n",
        "        \"\"\"\n",
        "        charSet = set()\n",
        "        l=0\n",
        "        res=0\n",
        "        for r in range(len(s)):\n",
        "            while s[r] in charSet:\n",
        "                charSet.remove(s[l])\n",
        "                l += 1\n",
        "            charSet.add(s[r])\n",
        "            res = max(res,r-l+1)\n",
        "        return res"
      ]
    },
    {
      "cell_type": "code",
      "execution_count": null,
      "metadata": {
        "id": "ZVAtQL69zXbT",
        "outputId": "ad467d47-e3f4-41ce-9516-4fdcac384617"
      },
      "outputs": [
        {
          "data": {
            "text/plain": [
              "7"
            ]
          },
          "execution_count": 9,
          "metadata": {},
          "output_type": "execute_result"
        }
      ],
      "source": [
        "solution = Solution()\n",
        "s = \"fdajfksdnjkkdfda\"\n",
        "solution.lengthOfLongestSubstring(s)"
      ]
    },
    {
      "cell_type": "markdown",
      "metadata": {
        "id": "3ZOOdlYUzXbU"
      },
      "source": [
        "## 4.Median of 2 sorted arrays"
      ]
    },
    {
      "cell_type": "code",
      "execution_count": null,
      "metadata": {
        "id": "gmm6lhw0zXbU"
      },
      "outputs": [],
      "source": [
        "class Solution(object):\n",
        "    def findMedianSortedArrays(self, nums1, nums2):\n",
        "        \"\"\"\n",
        "        :type nums1: List[int]\n",
        "        :type nums2: List[int]\n",
        "        :rtype: float\n",
        "        \"\"\"\n",
        "        new_list = nums1+nums2\n",
        "        m = len(new_list)\n",
        "        new_list = sorted(new_list)\n",
        "        if m%2 == 0:\n",
        "            output = (new_list[int((m)/2 -1)]+new_list[int((m)/2)])/2\n",
        "            return float(output)\n",
        "        elif m%2 != 0:\n",
        "            return float(new_list[(m)//2])"
      ]
    },
    {
      "cell_type": "code",
      "execution_count": null,
      "metadata": {
        "id": "WhBAIdI5zXbV",
        "outputId": "4449fc17-d169-49f1-c233-9b37831b7f42"
      },
      "outputs": [
        {
          "data": {
            "text/plain": [
              "2.5"
            ]
          },
          "execution_count": 11,
          "metadata": {},
          "output_type": "execute_result"
        }
      ],
      "source": [
        "solution = Solution()\n",
        "nums1 = [1,2]\n",
        "nums2 = [3,4]\n",
        "solution.findMedianSortedArrays(nums1,nums2)"
      ]
    },
    {
      "cell_type": "markdown",
      "metadata": {
        "id": "dshZn-2fzXbY"
      },
      "source": [
        "# 5. Longest Palindromic Substring\n"
      ]
    },
    {
      "cell_type": "markdown",
      "metadata": {
        "id": "UMUGUV1-zXbZ"
      },
      "source": [
        "## Brute force"
      ]
    },
    {
      "cell_type": "code",
      "execution_count": null,
      "metadata": {
        "id": "xoafrPFSzXbZ"
      },
      "outputs": [],
      "source": [
        "class Solution(object):\n",
        "    def longestPalindrome(self, s):\n",
        "        \"\"\"\n",
        "        :type s: str\n",
        "        :rtype: str\n",
        "        \"\"\"\n",
        "        long_dic = {}\n",
        "        for x in range(len(s)):\n",
        "            for num in range(x+1,len(s)):\n",
        "                if s[x:num] == s[num:x:-1]:\n",
        "                    long_dic[s[x:num+1]] = len(s[x:num])\n",
        "        if len(long_dic)==0:\n",
        "            return s[0]\n",
        "        for key,value in long_dic.items():\n",
        "            if value == max(long_dic.values()):\n",
        "                return key"
      ]
    },
    {
      "cell_type": "code",
      "execution_count": null,
      "metadata": {
        "id": "QDJ9jEx-zXba",
        "outputId": "23ab12ef-63a5-44bb-bcb4-65d13d56e77d"
      },
      "outputs": [
        {
          "data": {
            "text/plain": [
              "'a'"
            ]
          },
          "execution_count": 13,
          "metadata": {},
          "output_type": "execute_result"
        }
      ],
      "source": [
        "s1 = 'a'\n",
        "x = Solution()\n",
        "x.longestPalindrome(s1)"
      ]
    },
    {
      "cell_type": "markdown",
      "metadata": {
        "id": "N6_U-4kJzXbb"
      },
      "source": [
        "## Easy way"
      ]
    },
    {
      "cell_type": "code",
      "execution_count": null,
      "metadata": {
        "id": "QiM7qy30zXbc"
      },
      "outputs": [],
      "source": [
        "class Solution(object):\n",
        "    def longestPalindrome(self, s):\n",
        "        \"\"\"\n",
        "        :type s: str\n",
        "        :rtype: str\n",
        "        \"\"\"\n",
        "        res = \"\"\n",
        "        resLen = 0\n",
        "\n",
        "        for num in range(len(s)):\n",
        "            l=num\n",
        "            r=num\n",
        "            while l>=0 and r<len(s) and s[l]==s[r]:\n",
        "                if (r-l+1) > resLen:\n",
        "                    res = s[l:r+1]\n",
        "                    resLen = r-l+1\n",
        "                l -= 1\n",
        "                r += 1\n",
        "            l=num\n",
        "            r=num+1\n",
        "            while l>=0 and r<len(s) and s[l]==s[r]:\n",
        "                if (r-l+1) > resLen:\n",
        "                    res = s[l:r+1]\n",
        "                    resLen = r-l+1\n",
        "                l -= 1\n",
        "                r += 1\n",
        "        return res\n",
        "\n"
      ]
    },
    {
      "cell_type": "code",
      "execution_count": null,
      "metadata": {
        "id": "nvXqDl9ZzXbd"
      },
      "outputs": [],
      "source": []
    },
    {
      "cell_type": "code",
      "execution_count": null,
      "metadata": {
        "id": "JYUR9jCEzXbe",
        "outputId": "04886a7d-55e3-4616-aeff-365652b4fe82"
      },
      "outputs": [
        {
          "data": {
            "text/plain": [
              "'ababaaabb'"
            ]
          },
          "execution_count": 15,
          "metadata": {},
          "output_type": "execute_result"
        }
      ],
      "source": [
        "'ababaaabb'"
      ]
    },
    {
      "cell_type": "markdown",
      "metadata": {
        "id": "rUp-sjW0zXbe"
      },
      "source": [
        "# 6. Zigzag Conversion"
      ]
    },
    {
      "cell_type": "code",
      "execution_count": null,
      "metadata": {
        "id": "rfrIjbUczXbf"
      },
      "outputs": [],
      "source": [
        "class Solution(object):\n",
        "    def convert(self, s, numRows):\n",
        "        \"\"\"\n",
        "        :type s: str\n",
        "        :type numRows: int\n",
        "        :rtype: str\n",
        "        \"\"\"\n",
        "        a = 0\n",
        "        b = 0\n",
        "        diction = {}\n",
        "        for num in range(numRows):\n",
        "            diction[num] = \"\"\n",
        "        if numRows==1:\n",
        "            return s\n",
        "\n",
        "        while a <= len(s)-1:\n",
        "            while b<=numRows-1 and a <= len(s)-1:\n",
        "                diction[b]= diction[b]+s[a]\n",
        "                b += 1\n",
        "                a += 1\n",
        "            b = b - 2\n",
        "            while b>0 and a <= len(s)-1:\n",
        "                diction[b]= diction[b]+s[a]\n",
        "                b -= 1\n",
        "                a += 1\n",
        "\n",
        "        output = \"\"\n",
        "        for value in diction.values():\n",
        "            output = output+value\n",
        "        return output\n"
      ]
    },
    {
      "cell_type": "code",
      "execution_count": null,
      "metadata": {
        "id": "OLfe5hUNzXbf",
        "outputId": "1d8c3025-e02d-4c19-c111-b0ef2bb65e3a"
      },
      "outputs": [
        {
          "data": {
            "text/plain": [
              "'AB'"
            ]
          },
          "execution_count": 17,
          "metadata": {},
          "output_type": "execute_result"
        }
      ],
      "source": [
        "solution = Solution()\n",
        "s = \"AB\"\n",
        "numRows = 1\n",
        "solution.convert(s,numRows)\n"
      ]
    },
    {
      "cell_type": "markdown",
      "metadata": {
        "id": "uy92S7BZzXbg"
      },
      "source": [
        "## Solution"
      ]
    },
    {
      "cell_type": "code",
      "execution_count": null,
      "metadata": {
        "id": "CpSyXzlzzXbh"
      },
      "outputs": [],
      "source": [
        "class Solution(object):\n",
        "    def convert(self, s, numRows):\n",
        "        \"\"\"\n",
        "        :type s: str\n",
        "        :type numRows: int\n",
        "        :rtype: str\n",
        "        \"\"\"\n",
        "        if numRows ==1: return s\n",
        "        res = ''\n",
        "        for r in range(numRows):\n",
        "            increment = 2 * (numRows -1)\n",
        "            for i in range(r,len(s),increment):\n",
        "                res += s[i]\n",
        "                if ( r > 0 and r < numRows-1 and\n",
        "                    i+increment - 2 *r < len(s)):\n",
        "                    res += s[i+increment - 2 *r]\n",
        "        return res\n"
      ]
    },
    {
      "cell_type": "markdown",
      "metadata": {
        "id": "MsIfPft1zXbh"
      },
      "source": [
        "#  7. Reverse Integer"
      ]
    },
    {
      "cell_type": "code",
      "execution_count": null,
      "metadata": {
        "id": "IctTFVKozXbh"
      },
      "outputs": [],
      "source": [
        "class Solution(object):\n",
        "    def reverse(self, x):\n",
        "        \"\"\"\n",
        "        :type x: int\n",
        "        :rtype: int\n",
        "        \"\"\"\n",
        "        if x < 0:\n",
        "            positive = 0\n",
        "            x = -x\n",
        "        else:\n",
        "            positive = 1\n",
        "        x = str(x)\n",
        "        x = x[-1::-1]\n",
        "        x = int(x)\n",
        "        if -x < (-2)**31 or x > (2**(31)-1):\n",
        "            return 0\n",
        "        elif positive:\n",
        "            return x\n",
        "        else:\n",
        "            return -x\n",
        "\n",
        "\n"
      ]
    },
    {
      "cell_type": "code",
      "execution_count": null,
      "metadata": {
        "id": "WtLyM_HCzXbi",
        "outputId": "5632f8d9-9f9f-4b2e-bd7e-09874eee15ec"
      },
      "outputs": [
        {
          "data": {
            "text/plain": [
              "0"
            ]
          },
          "execution_count": 20,
          "metadata": {},
          "output_type": "execute_result"
        }
      ],
      "source": [
        "solution = Solution()\n",
        "solution.reverse(0)"
      ]
    },
    {
      "cell_type": "code",
      "execution_count": null,
      "metadata": {
        "id": "1rU9KCiFzXbj",
        "outputId": "04096058-1ee3-48f7-f7b7-21815edb248c"
      },
      "outputs": [
        {
          "data": {
            "text/plain": [
              "5"
            ]
          },
          "execution_count": 21,
          "metadata": {},
          "output_type": "execute_result"
        }
      ],
      "source": [
        "-12155%10"
      ]
    },
    {
      "cell_type": "code",
      "execution_count": null,
      "metadata": {
        "id": "tDMnuMepzXbj",
        "outputId": "1cfd8e89-1073-46ad-f7e2-7309920acdc6"
      },
      "outputs": [
        {
          "data": {
            "text/plain": [
              "7"
            ]
          },
          "execution_count": 22,
          "metadata": {},
          "output_type": "execute_result"
        }
      ],
      "source": [
        "-123%10"
      ]
    },
    {
      "cell_type": "code",
      "execution_count": null,
      "metadata": {
        "id": "-FqTz5WTzXbp"
      },
      "outputs": [],
      "source": [
        "class Solution(object):\n",
        "    def reverse(self, x):\n",
        "        import math\n",
        "        \"\"\"\n",
        "        :type x: int\n",
        "        :rtype: int\n",
        "        \"\"\"\n",
        "        MIN = (-2)**31\n",
        "        MAX = (2)**31-1\n",
        "        res = 0\n",
        "        while x:\n",
        "            digit = int(math.fmod(x,10))\n",
        "            x = int(x/10)\n",
        "            if (res > MAX//10 or (res ==MAX and digit>=MAX%10)):\n",
        "                return 0\n",
        "            if (res < MIN//10 or (res ==MIN and digit<=MAX%10)):\n",
        "                return 0\n",
        "            res = (res * 10)+digit\n",
        "        return res"
      ]
    },
    {
      "cell_type": "code",
      "execution_count": null,
      "metadata": {
        "id": "4iJsvVH6zXbt",
        "outputId": "1912f3a7-0fae-4f31-b7fb-58ecac6c4768"
      },
      "outputs": [
        {
          "data": {
            "text/plain": [
              "-321"
            ]
          },
          "execution_count": 24,
          "metadata": {},
          "output_type": "execute_result"
        }
      ],
      "source": [
        "solution = Solution()\n",
        "solution.reverse(-123)"
      ]
    },
    {
      "cell_type": "markdown",
      "metadata": {
        "id": "WVzSgEfTzXbu"
      },
      "source": [
        "# 9. Palindrome Number"
      ]
    },
    {
      "cell_type": "code",
      "execution_count": null,
      "metadata": {
        "id": "irFZIKNvzXbw"
      },
      "outputs": [],
      "source": [
        "class Solution:\n",
        "    def isPalindrome(self, x: int) -> bool:\n",
        "        if x<0:\n",
        "            x = -x\n",
        "        if str(x)[-1::-1] == str(x):\n",
        "            return True\n",
        "        else:\n",
        "            return False"
      ]
    },
    {
      "cell_type": "code",
      "execution_count": null,
      "metadata": {
        "id": "HluNuxaGzXbx",
        "outputId": "83738c5a-6020-476d-b1f7-237a463a16e9"
      },
      "outputs": [
        {
          "data": {
            "text/plain": [
              "True"
            ]
          },
          "execution_count": 26,
          "metadata": {},
          "output_type": "execute_result"
        }
      ],
      "source": [
        "solution = Solution()\n",
        "solution.isPalindrome(121)"
      ]
    },
    {
      "cell_type": "markdown",
      "metadata": {
        "id": "sNPWtlrXzXby"
      },
      "source": [
        "# `10. Regular Expression Matching`"
      ]
    },
    {
      "cell_type": "code",
      "execution_count": null,
      "metadata": {
        "id": "41cSLB8JzXbz"
      },
      "outputs": [],
      "source": [
        "class Solution:\n",
        "    def isMatch(self, s: str, p: str) -> bool:\n",
        "        out_list = []\n",
        "        compare = \"\"\n",
        "        for num,sign in enumerate(p):\n",
        "            if sign == \".\":\n",
        "                out_list.append(s[num])\n",
        "            elif sign == \"*\"and p[num-1] != '.':\n",
        "                rep = 0\n",
        "                if p[num-1]!= s[num-1]:\n",
        "                    out_list.pop(num-1)\n",
        "                for let in s[num:]:\n",
        "                    if let != s[num-1]:\n",
        "                        break\n",
        "                    else:\n",
        "                        rep += 1\n",
        "                out_list.append(s[num-1] * rep)\n",
        "            elif sign == \"*\" and p[num-1] == '.':\n",
        "                if num+1 == len(p):\n",
        "                    compare = compare.join(out_list)\n",
        "                    if compare == s[:num]:\n",
        "                        return True\n",
        "            else:\n",
        "                out_list.append(sign)\n",
        "\n",
        "        compare = compare.join(out_list)\n",
        "        if compare == s:\n",
        "            return compare\n",
        "        else:\n",
        "            return compare\n",
        "\n"
      ]
    },
    {
      "cell_type": "code",
      "execution_count": null,
      "metadata": {
        "id": "zg-l-6T-zXb0",
        "outputId": "e481b34c-a2c5-4d79-fa58-01547bccb559"
      },
      "outputs": [
        {
          "data": {
            "text/plain": [
              "False"
            ]
          },
          "execution_count": 28,
          "metadata": {},
          "output_type": "execute_result"
        }
      ],
      "source": [
        "a = 'agwegsd'\n",
        "b = 'ag.*df'\n",
        "a = a.endswith(b)\n",
        "a"
      ]
    },
    {
      "cell_type": "code",
      "execution_count": null,
      "metadata": {
        "id": "V0ARvVIFzXb1",
        "outputId": "02aa22c5-20b5-4518-9af1-c4d3c74a366d"
      },
      "outputs": [
        {
          "ename": "IndexError",
          "evalue": "pop index out of range",
          "output_type": "error",
          "traceback": [
            "\u001b[0;31m---------------------------------------------------------------------------\u001b[0m",
            "\u001b[0;31mIndexError\u001b[0m                                Traceback (most recent call last)",
            "\u001b[1;32m/Users/carlos/Library/CloudStorage/OneDrive-IEUniversity/IE/Python/Programming Lab/Leetcode.ipynb Cell 42\u001b[0m line \u001b[0;36m2\n\u001b[1;32m      <a href='vscode-notebook-cell:/Users/carlos/Library/CloudStorage/OneDrive-IEUniversity/IE/Python/Programming%20Lab/Leetcode.ipynb#X56sZmlsZQ%3D%3D?line=0'>1</a>\u001b[0m solution \u001b[39m=\u001b[39m Solution()\n\u001b[0;32m----> <a href='vscode-notebook-cell:/Users/carlos/Library/CloudStorage/OneDrive-IEUniversity/IE/Python/Programming%20Lab/Leetcode.ipynb#X56sZmlsZQ%3D%3D?line=1'>2</a>\u001b[0m solution\u001b[39m.\u001b[39;49misMatch(\u001b[39m'\u001b[39;49m\u001b[39maab\u001b[39;49m\u001b[39m'\u001b[39;49m,\u001b[39m'\u001b[39;49m\u001b[39mc*a*b*\u001b[39;49m\u001b[39m'\u001b[39;49m)\n",
            "\u001b[1;32m/Users/carlos/Library/CloudStorage/OneDrive-IEUniversity/IE/Python/Programming Lab/Leetcode.ipynb Cell 42\u001b[0m line \u001b[0;36m1\n\u001b[1;32m      <a href='vscode-notebook-cell:/Users/carlos/Library/CloudStorage/OneDrive-IEUniversity/IE/Python/Programming%20Lab/Leetcode.ipynb#X56sZmlsZQ%3D%3D?line=8'>9</a>\u001b[0m rep \u001b[39m=\u001b[39m \u001b[39m0\u001b[39m\n\u001b[1;32m     <a href='vscode-notebook-cell:/Users/carlos/Library/CloudStorage/OneDrive-IEUniversity/IE/Python/Programming%20Lab/Leetcode.ipynb#X56sZmlsZQ%3D%3D?line=9'>10</a>\u001b[0m \u001b[39mif\u001b[39;00m p[num\u001b[39m-\u001b[39m\u001b[39m1\u001b[39m]\u001b[39m!=\u001b[39m s[num\u001b[39m-\u001b[39m\u001b[39m1\u001b[39m]:\n\u001b[0;32m---> <a href='vscode-notebook-cell:/Users/carlos/Library/CloudStorage/OneDrive-IEUniversity/IE/Python/Programming%20Lab/Leetcode.ipynb#X56sZmlsZQ%3D%3D?line=10'>11</a>\u001b[0m     out_list\u001b[39m.\u001b[39;49mpop(num\u001b[39m-\u001b[39;49m\u001b[39m1\u001b[39;49m)\n\u001b[1;32m     <a href='vscode-notebook-cell:/Users/carlos/Library/CloudStorage/OneDrive-IEUniversity/IE/Python/Programming%20Lab/Leetcode.ipynb#X56sZmlsZQ%3D%3D?line=11'>12</a>\u001b[0m \u001b[39mfor\u001b[39;00m let \u001b[39min\u001b[39;00m s[num:]:\n\u001b[1;32m     <a href='vscode-notebook-cell:/Users/carlos/Library/CloudStorage/OneDrive-IEUniversity/IE/Python/Programming%20Lab/Leetcode.ipynb#X56sZmlsZQ%3D%3D?line=12'>13</a>\u001b[0m     \u001b[39mif\u001b[39;00m let \u001b[39m!=\u001b[39m s[num\u001b[39m-\u001b[39m\u001b[39m1\u001b[39m]:\n",
            "\u001b[0;31mIndexError\u001b[0m: pop index out of range"
          ]
        }
      ],
      "source": [
        "solution = Solution()\n",
        "solution.isMatch('aab','c*a*b*')"
      ]
    },
    {
      "cell_type": "markdown",
      "metadata": {
        "id": "GVFBAo_4zXb2"
      },
      "source": [
        "# 11. container with most water"
      ]
    },
    {
      "cell_type": "code",
      "execution_count": null,
      "metadata": {
        "id": "5O05zUuVzXb3"
      },
      "outputs": [],
      "source": [
        "class Solution(object):\n",
        "    def maxArea(self, height):\n",
        "        \"\"\"\n",
        "        :type height: List[int]\n",
        "        :rtype: int\n",
        "        \"\"\"\n",
        "        p1 = len(height)-1\n",
        "        p2 = 0\n",
        "        area = 0\n",
        "        while p1>p2:\n",
        "            com = abs(p1-p2)*min(height[p1],height[p2])\n",
        "            area = max(area,com)\n",
        "            if height[p1]>height[p2]:\n",
        "                p2 += 1\n",
        "            else:\n",
        "                p1 -= 1\n",
        "        return area"
      ]
    },
    {
      "cell_type": "code",
      "execution_count": null,
      "metadata": {
        "id": "OP0ccGJ2zXb4",
        "outputId": "fb930aa7-195c-4dde-9186-fdb1534b0f4d"
      },
      "outputs": [
        {
          "data": {
            "text/plain": [
              "1"
            ]
          },
          "execution_count": 10,
          "metadata": {},
          "output_type": "execute_result"
        }
      ],
      "source": [
        "solution = Solution()\n",
        "solution.maxArea([1,1])"
      ]
    },
    {
      "cell_type": "markdown",
      "metadata": {
        "id": "eXP3AsJnzXb5"
      },
      "source": [
        "# 12. Integer to Roman"
      ]
    },
    {
      "cell_type": "code",
      "execution_count": null,
      "metadata": {
        "id": "Z_56usAPzXb5"
      },
      "outputs": [],
      "source": [
        "class Solution(object):\n",
        "    def intToRoman(self, num):\n",
        "        \"\"\"\n",
        "        :type num: int\n",
        "        :rtype: str\n",
        "        \"\"\"\n",
        "        symbol = ['I','V','X','L','C','D','M']\n",
        "        num_str = str(num)\n",
        "        pt_num = 0\n",
        "        pt_sym = (len(num_str)-1)*2\n",
        "        res = \"\"\n",
        "        for number in num_str:\n",
        "            if int(number)<4:\n",
        "                res = res + int(num_str[pt_num])*symbol[pt_sym]\n",
        "                pt_sym -= 2\n",
        "                pt_num += 1\n",
        "            if int(number)==4:\n",
        "                res = res + symbol[pt_sym]+symbol[pt_sym+1]\n",
        "                pt_num += 1\n",
        "                pt_sym -= 2\n",
        "            if int(number)>4 and int(number)<9:\n",
        "                res = res + symbol[pt_sym+1]+(int(num_str[pt_num])-5)*symbol[pt_sym]\n",
        "                pt_num += 1\n",
        "                pt_sym -= 2\n",
        "            if int(number)==9:\n",
        "                res = res + symbol[pt_sym]+symbol[pt_sym+2]\n",
        "                pt_num += 1\n",
        "                pt_sym -= 2\n",
        "        return res\n"
      ]
    },
    {
      "cell_type": "code",
      "execution_count": null,
      "metadata": {
        "id": "SHtsZCS8zXb5",
        "outputId": "18e38be4-9637-46b1-b2b7-bed042d699fd"
      },
      "outputs": [
        {
          "data": {
            "text/plain": [
              "'MCMXCIV'"
            ]
          },
          "execution_count": 53,
          "metadata": {},
          "output_type": "execute_result"
        }
      ],
      "source": [
        "solution = Solution()\n",
        "solution.intToRoman(1994)"
      ]
    },
    {
      "cell_type": "code",
      "execution_count": null,
      "metadata": {
        "id": "w8fNmAzmzXb7",
        "outputId": "5de5fdbd-2380-4f01-f723-dcc576eeacb3"
      },
      "outputs": [
        {
          "data": {
            "text/plain": [
              "'4'"
            ]
          },
          "execution_count": 47,
          "metadata": {},
          "output_type": "execute_result"
        }
      ],
      "source": [
        "a ='1994'\n",
        "a[3]"
      ]
    },
    {
      "cell_type": "markdown",
      "source": [
        "# Roman to Integer"
      ],
      "metadata": {
        "id": "-oTMod4bzbgb"
      }
    },
    {
      "cell_type": "code",
      "source": [
        "class Solution(object):\n",
        "    def romanToInt(self, s):\n",
        "        \"\"\"\n",
        "        :type s: str\n",
        "        :rtype: int\n",
        "        \"\"\"\n",
        "        symbol = {'I':1,'V':5,'X':10,'L':50,'C':100,'D':500,'M':1000}\n",
        "        special= {'IV':2,'IX':2,'XL':20,'XC':20,'CD':200, 'CM':200}\n",
        "        res = 0\n",
        "        for char in s:\n",
        "          res += symbol[char]\n",
        "        for cases in special:\n",
        "          if cases in s:\n",
        "            res -= special[cases]\n",
        "        return res\n",
        "\n"
      ],
      "metadata": {
        "id": "UORP-suwzaZD"
      },
      "execution_count": null,
      "outputs": []
    },
    {
      "cell_type": "code",
      "source": [
        "sol = Solution()\n",
        "sol.romanToInt('MCMXCIV')"
      ],
      "metadata": {
        "colab": {
          "base_uri": "https://localhost:8080/"
        },
        "id": "mUFbUT4p13GT",
        "outputId": "cf52813d-69e9-4c26-ea9e-3b285d1211cb"
      },
      "execution_count": null,
      "outputs": [
        {
          "output_type": "execute_result",
          "data": {
            "text/plain": [
              "1994"
            ]
          },
          "metadata": {},
          "execution_count": 5
        }
      ]
    },
    {
      "cell_type": "markdown",
      "source": [
        "# 14. Longest Common Prefix"
      ],
      "metadata": {
        "id": "LR0zHzKnzSNt"
      }
    },
    {
      "cell_type": "code",
      "source": [
        "class Solution(object):\n",
        "    def longestCommonPrefix(self, strs):\n",
        "        \"\"\"\n",
        "        :type strs: List[str]\n",
        "        :rtype: str\n",
        "        \"\"\"\n",
        "        pointer = 0\n",
        "        output_set = set()\n",
        "        res = \"\"\n",
        "        while pointer <= len(output_set)-1:\n",
        "          for word in strs:\n",
        "            output_set.add(word[pointer])\n",
        "            if len(output_set) != pointer +1:\n",
        "              return res\n",
        "            else:\n",
        "              res += word[pointer]\n",
        "              pointer += 1"
      ],
      "metadata": {
        "id": "6-ULg1_yzVe3"
      },
      "execution_count": null,
      "outputs": []
    },
    {
      "cell_type": "code",
      "source": [
        "sol = Solution()\n",
        "sol.longestCommonPrefix([\"flower\",\"flow\",\"flight\"])"
      ],
      "metadata": {
        "id": "KcktuWNL1vu8"
      },
      "execution_count": null,
      "outputs": []
    },
    {
      "cell_type": "markdown",
      "source": [
        "# 15. 3Sum"
      ],
      "metadata": {
        "id": "B-qGf9xthMqW"
      }
    },
    {
      "cell_type": "code",
      "source": [
        "class Solution(object):\n",
        "    def threeSum(self, nums):\n",
        "        \"\"\"\n",
        "        :type nums: List[int]\n",
        "        :rtype: List[List[int]]\n",
        "        \"\"\"\n",
        "        res = []\n",
        "        resset = []\n",
        "        diction = {}\n",
        "        for index,number in enumerate(nums):\n",
        "          diction[number]=index\n",
        "        for l in range(len(nums)-1):\n",
        "          r= l+1\n",
        "          while r <= len(nums)-1:\n",
        "            sum = nums[l] + nums[r]\n",
        "            if (0 - sum) in diction.keys() and ({nums[l],nums[r],0-sum} not in resset):\n",
        "              resset.append({nums[l],nums[r],0-sum})\n",
        "              res.append([nums[l],nums[r],0-sum])\n",
        "            r += 1\n",
        "        return res\n"
      ],
      "metadata": {
        "id": "1gVwZZZIhQlj"
      },
      "execution_count": null,
      "outputs": []
    },
    {
      "cell_type": "code",
      "source": [
        "class Solution:\n",
        "    def threeSum(self, nums):\n",
        "        target = 0\n",
        "        nums.sort()\n",
        "        s = set()\n",
        "        output = []\n",
        "        for i in range(len(nums)):\n",
        "            j = i + 1\n",
        "            k = len(nums) - 1\n",
        "            while j < k:\n",
        "                sum = nums[i] + nums[j] + nums[k]\n",
        "                if sum == target:\n",
        "                    s.add((nums[i], nums[j], nums[k]))\n",
        "                    j += 1\n",
        "                    k -= 1\n",
        "                elif sum < target:\n",
        "                    j += 1\n",
        "                else:\n",
        "                    k -= 1\n",
        "        output = [list(t) for t in s]\n",
        "        return output"
      ],
      "metadata": {
        "id": "Y7xp-k-hsy5e"
      },
      "execution_count": null,
      "outputs": []
    },
    {
      "cell_type": "code",
      "source": [
        "sol = Solution()\n",
        "sol.threeSum([-1,0,1,2,-1,-4])"
      ],
      "metadata": {
        "colab": {
          "base_uri": "https://localhost:8080/"
        },
        "id": "XRf_NAZTj2AS",
        "outputId": "a059f461-c4b3-46e3-eedb-2884da3291b5"
      },
      "execution_count": null,
      "outputs": [
        {
          "output_type": "execute_result",
          "data": {
            "text/plain": [
              "[[-1, 0, 1], [-1, -1, 2]]"
            ]
          },
          "metadata": {},
          "execution_count": 40
        }
      ]
    },
    {
      "cell_type": "code",
      "source": [
        "list((0,1,2))"
      ],
      "metadata": {
        "colab": {
          "base_uri": "https://localhost:8080/"
        },
        "id": "emh212-clyTw",
        "outputId": "1f5074bd-34e7-4d3e-ea83-fff398c34191"
      },
      "execution_count": null,
      "outputs": [
        {
          "output_type": "execute_result",
          "data": {
            "text/plain": [
              "[0, 1, 2]"
            ]
          },
          "metadata": {},
          "execution_count": 21
        }
      ]
    },
    {
      "cell_type": "code",
      "source": [
        "s = set()\n",
        "s.add((0,0,1))\n",
        "s"
      ],
      "metadata": {
        "colab": {
          "base_uri": "https://localhost:8080/"
        },
        "id": "Iz5brOd5rvqG",
        "outputId": "cfa8dab0-80f2-456d-f37d-dccd4a6b5200"
      },
      "execution_count": null,
      "outputs": [
        {
          "output_type": "execute_result",
          "data": {
            "text/plain": [
              "{(0, 0, 1)}"
            ]
          },
          "metadata": {},
          "execution_count": 14
        }
      ]
    },
    {
      "cell_type": "markdown",
      "source": [
        "# 16. 3Sum Closest"
      ],
      "metadata": {
        "id": "3mP3p3Q9L5EX"
      }
    },
    {
      "cell_type": "code",
      "source": [
        "class Solution(object):\n",
        "    def threeSumClosest(self, nums, target):\n",
        "        \"\"\"\n",
        "        :type nums: List[int]\n",
        "        :type target: int\n",
        "        :rtype: int\n",
        "        \"\"\"\n",
        "        nums = sorted(nums)\n",
        "        res = nums[0]+nums[1]+nums[2]\n",
        "        n =0\n",
        "        for num in nums:\n",
        "          l=n+1\n",
        "          while l <= len(nums)-2:\n",
        "            r=l+1\n",
        "            while r<= len(nums)-1:\n",
        "              sum3 = num + nums[l] + nums[r]\n",
        "              if abs(res-target)>=abs(sum3-target):\n",
        "                res = sum3\n",
        "              if res == target:\n",
        "                return res\n",
        "              r +=1\n",
        "            l+=1\n",
        "          n+=1\n",
        "        return res"
      ],
      "metadata": {
        "id": "TiL93x5WL44D"
      },
      "execution_count": null,
      "outputs": []
    },
    {
      "cell_type": "code",
      "source": [
        "class Solution(object):\n",
        "    def threeSumClosest(self, nums, target):\n",
        "        \"\"\"\n",
        "        :type nums: List[int]\n",
        "        :type target: int\n",
        "        :rtype: int\n",
        "        \"\"\"\n",
        "        nums = sorted(nums)\n",
        "        res = nums[0]+nums[1]+nums[2]\n",
        "        n =0\n",
        "        if sum(nums[-3:])<target:\n",
        "          return sum(nums[-3:])\n",
        "        if sum(nums[:3])>target:\n",
        "          return sum(nums[:3])\n",
        "\n",
        "        for n in range(len(nums)-2):\n",
        "          l= n+1\n",
        "          r= len(nums)-1\n",
        "\n",
        "          while l<r:\n",
        "            sum3 = nums[l]+nums[r]+nums[n]\n",
        "            if abs(res-target)>=abs(sum3-target):\n",
        "                res = sum3\n",
        "            if res == target:\n",
        "                return res\n",
        "            elif sum3 < target:\n",
        "              l+=1\n",
        "            elif sum3 > target:\n",
        "              r-=1\n",
        "        return res"
      ],
      "metadata": {
        "id": "_A9C8fnlHnGl"
      },
      "execution_count": null,
      "outputs": []
    },
    {
      "cell_type": "code",
      "source": [
        "sol = Solution()\n",
        "sol.threeSumClosest([-1,0,1,2,-1,-4],1)"
      ],
      "metadata": {
        "colab": {
          "base_uri": "https://localhost:8080/"
        },
        "id": "CdrIcAmUXj2K",
        "outputId": "fa285aea-f70f-4440-9357-f35ef0748302"
      },
      "execution_count": null,
      "outputs": [
        {
          "output_type": "execute_result",
          "data": {
            "text/plain": [
              "2"
            ]
          },
          "metadata": {},
          "execution_count": 30
        }
      ]
    },
    {
      "cell_type": "code",
      "source": [
        "if n > 0 and nums[n] == nums[n - 1]:\n",
        "                continue"
      ],
      "metadata": {
        "id": "jFyyftGAPqoT"
      },
      "execution_count": null,
      "outputs": []
    },
    {
      "cell_type": "markdown",
      "source": [
        "# 17. Letter Combinations of a Phone Number"
      ],
      "metadata": {
        "id": "OgNl5u-cAvmg"
      }
    },
    {
      "cell_type": "code",
      "source": [
        "class Solution(object):\n",
        "    def letterCombinations(self, digits):\n",
        "        \"\"\"\n",
        "        :type digits: str\n",
        "        :rtype: List[str]\n",
        "        \"\"\"\n",
        "\n",
        "        diction = {2:['a','b','c'],3:['d','e','f'],4:['g','h','i'],5:['j','k','l'],\n",
        "                   6:['m','n','o'],7:['p','q','r','s'],8:['t','u','v'],9:['w','x','y','z']}\n",
        "        pos = 1\n",
        "        letter = 0\n",
        "        if digits == \"\":\n",
        "          return []\n",
        "        res = [x for x in diction[int(digits[0])]]\n",
        "        output = []\n",
        "        while pos<= len(digits)-1:\n",
        "          for n in range(len(res)):\n",
        "            for char in diction[int(digits[pos])]:\n",
        "              res.append(res[n]+char)\n",
        "          pos += 1\n",
        "        for sig in res:\n",
        "          if len(sig) == len(digits):\n",
        "            output.append(sig)\n",
        "        return output\n"
      ],
      "metadata": {
        "id": "fyNA0f5kA0jD"
      },
      "execution_count": null,
      "outputs": []
    },
    {
      "cell_type": "code",
      "source": [
        "sol = Solution()\n",
        "sol.letterCombinations(\"23\")"
      ],
      "metadata": {
        "colab": {
          "base_uri": "https://localhost:8080/"
        },
        "id": "UK7UN8hXHZ5o",
        "outputId": "b2e79bad-f959-4c54-b574-de1328877c06"
      },
      "execution_count": null,
      "outputs": [
        {
          "output_type": "execute_result",
          "data": {
            "text/plain": [
              "['ad', 'ae', 'af', 'bd', 'be', 'bf', 'cd', 'ce', 'cf']"
            ]
          },
          "metadata": {},
          "execution_count": 43
        }
      ]
    },
    {
      "cell_type": "markdown",
      "source": [
        "# 18. 4Sum"
      ],
      "metadata": {
        "id": "qfl0beO66P9n"
      }
    },
    {
      "cell_type": "code",
      "source": [
        "class Solution(object):\n",
        "    def fourSum(self, nums, target):\n",
        "        \"\"\"\n",
        "        :type nums: List[int]\n",
        "        :type target: int\n",
        "        :rtype: List[List[int]]\n",
        "        \"\"\"\n",
        "        nums = list(sorted(nums))\n",
        "        out_set = set()\n",
        "        for index in range(len(nums)-3):\n",
        "          for index2 in nums[index+1:len(nums)-2]:\n",
        "            l = index+2\n",
        "            r = len(nums)-1\n",
        "            while l<r:\n",
        "              sum = nums[index2]+nums[index] + nums[l] + nums[r]\n",
        "              if sum == target:\n",
        "                out_set.add((nums[index],nums[index2],nums[l],nums[r]))\n",
        "                l+=1\n",
        "                r-=1\n",
        "              elif sum > target:\n",
        "                r -= 1\n",
        "              elif sum < target:\n",
        "                l += 1\n",
        "        return list(out_set)\n",
        "\n"
      ],
      "metadata": {
        "id": "1vCPb0Js6RnL"
      },
      "execution_count": null,
      "outputs": []
    },
    {
      "cell_type": "code",
      "source": [
        "class Solution:\n",
        "    def fourSum(self, nums, target):\n",
        "        n = len(nums)\n",
        "        seen = set()\n",
        "        ans = set()\n",
        "        for i in range(n):\n",
        "            for j in range(i+1, n):\n",
        "                for k in range(j+1, n):\n",
        "                    lastNumber = target - nums[i] - nums[j] - nums[k]\n",
        "                    if lastNumber in seen:\n",
        "                        arr = sorted([nums[i], nums[j], nums[k], lastNumber])\n",
        "                        ans.add((arr[0], arr[1], arr[2], arr[3]))\n",
        "            seen.add(nums[i])\n",
        "        return ans"
      ],
      "metadata": {
        "id": "19kjrdDBeBDz"
      },
      "execution_count": null,
      "outputs": []
    },
    {
      "cell_type": "code",
      "source": [
        "sol = Solution()\n",
        "sol.fourSum([-2,-1,0,0,1,2],0)"
      ],
      "metadata": {
        "colab": {
          "base_uri": "https://localhost:8080/"
        },
        "id": "dPTf5taaEUad",
        "outputId": "f5988904-3fb2-48b7-898c-d16d07cc614d"
      },
      "execution_count": null,
      "outputs": [
        {
          "output_type": "execute_result",
          "data": {
            "text/plain": [
              "{(-2, -1, 1, 2), (-2, 0, 0, 2), (-1, 0, 0, 1)}"
            ]
          },
          "metadata": {},
          "execution_count": 14
        }
      ]
    },
    {
      "cell_type": "code",
      "source": [
        "[-2,-1,0,0,1,2]"
      ],
      "metadata": {
        "id": "z0AMKI1SDlD6"
      },
      "execution_count": null,
      "outputs": []
    },
    {
      "cell_type": "code",
      "source": [
        "[2,2,2,2]==[2,2,2,2]"
      ],
      "metadata": {
        "colab": {
          "base_uri": "https://localhost:8080/"
        },
        "id": "gghaLAHgHBN3",
        "outputId": "a4648286-4294-4724-b781-2707eea70feb"
      },
      "execution_count": null,
      "outputs": [
        {
          "output_type": "execute_result",
          "data": {
            "text/plain": [
              "True"
            ]
          },
          "metadata": {},
          "execution_count": 24
        }
      ]
    },
    {
      "cell_type": "markdown",
      "source": [
        "# 19.Remove nth node from end of list"
      ],
      "metadata": {
        "id": "VoMv30tL8BYw"
      }
    },
    {
      "cell_type": "code",
      "source": [
        "# Definition for singly-linked list.\n",
        "# class ListNode(object):\n",
        "#     def __init__(self, val=0, next=None):\n",
        "#         self.val = val\n",
        "#         self.next = next\n",
        "class Solution(object):\n",
        "    def removeNthFromEnd(self, head, n):\n",
        "        \"\"\"\n",
        "        :type head: ListNode\n",
        "        :type n: int\n",
        "        :rtype: ListNode\n",
        "        \"\"\"\n",
        "        dummy = ListNode(0,head)\n",
        "        l = dummy\n",
        "        r = head\n",
        "        while n>0 and r:\n",
        "          r = r.next\n",
        "          n -= 1\n",
        "        while r:\n",
        "          l = l.next\n",
        "          r = r.next\n",
        "        l.next = l.next.next\n",
        "        return dummy.next"
      ],
      "metadata": {
        "id": "CdeSkbt-8E9T"
      },
      "execution_count": null,
      "outputs": []
    },
    {
      "cell_type": "markdown",
      "source": [
        "# 20. valid parentheses"
      ],
      "metadata": {
        "id": "sU8GuLIdCP9O"
      }
    },
    {
      "cell_type": "code",
      "source": [
        "class Solution(object):\n",
        "    def isValid(self, s):\n",
        "        \"\"\"\n",
        "        :type s: str\n",
        "        :rtype: bool\n",
        "        \"\"\"\n",
        "        l = 0\n",
        "        stack = []\n",
        "        outcome = True\n",
        "        if s[0]==\")\" or s[0]==\"]\" or s[0]==\"}\":\n",
        "          return False\n",
        "        while l<=len(s)-1:\n",
        "          if s[l]==\"(\" or s[l]==\"[\" or s[l]==\"{\":\n",
        "            stack.append(s[l])\n",
        "            l+=1\n",
        "          elif (s[l]==\")\" or s[l]==\"]\" or s[l]==\"}\") and len(stack)==0:\n",
        "            return False\n",
        "          elif s[l]==\")\" and stack[-1]==\"(\":\n",
        "            l+=1\n",
        "            stack.pop(-1)\n",
        "          elif s[l]==\"]\" and stack[-1]==\"[\":\n",
        "            l+=1\n",
        "            stack.pop(-1)\n",
        "          elif s[l]==\"}\" and stack[-1]==\"{\":\n",
        "            l+=1\n",
        "            stack.pop(-1)\n",
        "          else:\n",
        "            return False\n",
        "        if stack:\n",
        "          return False\n",
        "        else:\n",
        "          return True\n"
      ],
      "metadata": {
        "id": "t3t_AU7iCS8S"
      },
      "execution_count": null,
      "outputs": []
    },
    {
      "cell_type": "code",
      "source": [
        "sol = Solution()\n",
        "sol.isValid(\"(]\")"
      ],
      "metadata": {
        "colab": {
          "base_uri": "https://localhost:8080/"
        },
        "id": "3QB2loKYMTmj",
        "outputId": "0db06138-cd49-40a1-ffe4-26bfe5205ae0"
      },
      "execution_count": null,
      "outputs": [
        {
          "output_type": "execute_result",
          "data": {
            "text/plain": [
              "False"
            ]
          },
          "metadata": {},
          "execution_count": 14
        }
      ]
    },
    {
      "cell_type": "markdown",
      "source": [
        "# 21.MERGE TWO SORTED LISTS"
      ],
      "metadata": {
        "id": "e6_9hfpY_zdJ"
      }
    },
    {
      "cell_type": "code",
      "source": [
        "# Definition for singly-linked list.\n",
        "# class ListNode(object):\n",
        "#     def __init__(self, val=0, next=None):\n",
        "#         self.val = val\n",
        "#         self.next = next\n",
        "class Solution(object):\n",
        "    def mergeTwoLists(self, list1, list2):\n",
        "        \"\"\"\n",
        "        :type list1: Optional[ListNode]\n",
        "        :type list2: Optional[ListNode]\n",
        "        :rtype: Optional[ListNode]\n",
        "        \"\"\"\n",
        "        res = ListNode(0)\n",
        "        curr= res\n",
        "        while list1 and list2:\n",
        "          if list1.val <= list2.val:\n",
        "            curr.next = list1\n",
        "            list1 = list1.next\n",
        "          else:\n",
        "            curr.next = list2\n",
        "            list2 = list2.next\n",
        "          curr = curr.next\n",
        "        curr.next = list1 if list1 else list2\n",
        "        return res.next"
      ],
      "metadata": {
        "id": "Q7-xUQiSNVk3"
      },
      "execution_count": null,
      "outputs": []
    },
    {
      "cell_type": "markdown",
      "source": [
        "# 22. Generate parentheses"
      ],
      "metadata": {
        "id": "wsyjg57pJfWR"
      }
    },
    {
      "cell_type": "code",
      "source": [
        "class Solution(object):\n",
        "    def generateParenthesis(self, n):\n",
        "        \"\"\"\n",
        "        :type n: int\n",
        "        :rtype: List[str]\n",
        "        \"\"\"\n",
        "        stack = \"\"\n",
        "        res = []\n",
        "        def backtrack(openn,closedn):\n",
        "          if openn == closedn == n:\n",
        "            res.append(stack)\n",
        "            return\n",
        "\n",
        "          if openn<n:\n",
        "            stack+=\"(\"\n",
        "            backtrack(openn+1,closedn)\n",
        "            stack-=\"(\"\n",
        "\n",
        "          if closedn<openn:\n",
        "            stack+=\")\"\n",
        "            backtrack(openn,closedn+1)\n",
        "            stack-=\")\"\n",
        "\n",
        "        backtrack(0,0)\n",
        "        return res"
      ],
      "metadata": {
        "id": "pc_ry9L4JiBX"
      },
      "execution_count": null,
      "outputs": []
    },
    {
      "cell_type": "code",
      "source": [
        "sol = Solution()\n",
        "sol.generateParenthesis(3)"
      ],
      "metadata": {
        "colab": {
          "base_uri": "https://localhost:8080/",
          "height": 333
        },
        "id": "I2oePcF26Z5d",
        "outputId": "25719b7d-0f08-4b27-f363-62f6797fc714"
      },
      "execution_count": null,
      "outputs": [
        {
          "output_type": "error",
          "ename": "UnboundLocalError",
          "evalue": "local variable 'stack' referenced before assignment",
          "traceback": [
            "\u001b[0;31m---------------------------------------------------------------------------\u001b[0m",
            "\u001b[0;31mUnboundLocalError\u001b[0m                         Traceback (most recent call last)",
            "\u001b[0;32m<ipython-input-5-f919e64d7fba>\u001b[0m in \u001b[0;36m<cell line: 2>\u001b[0;34m()\u001b[0m\n\u001b[1;32m      1\u001b[0m \u001b[0msol\u001b[0m \u001b[0;34m=\u001b[0m \u001b[0mSolution\u001b[0m\u001b[0;34m(\u001b[0m\u001b[0;34m)\u001b[0m\u001b[0;34m\u001b[0m\u001b[0;34m\u001b[0m\u001b[0m\n\u001b[0;32m----> 2\u001b[0;31m \u001b[0msol\u001b[0m\u001b[0;34m.\u001b[0m\u001b[0mgenerateParenthesis\u001b[0m\u001b[0;34m(\u001b[0m\u001b[0;36m3\u001b[0m\u001b[0;34m)\u001b[0m\u001b[0;34m\u001b[0m\u001b[0;34m\u001b[0m\u001b[0m\n\u001b[0m",
            "\u001b[0;32m<ipython-input-4-5b8efb5eadbf>\u001b[0m in \u001b[0;36mgenerateParenthesis\u001b[0;34m(self, n)\u001b[0m\n\u001b[1;32m     19\u001b[0m             \u001b[0mbacktrack\u001b[0m\u001b[0;34m(\u001b[0m\u001b[0mopenn\u001b[0m\u001b[0;34m,\u001b[0m\u001b[0mclosedn\u001b[0m\u001b[0;34m+\u001b[0m\u001b[0;36m1\u001b[0m\u001b[0;34m)\u001b[0m\u001b[0;34m\u001b[0m\u001b[0;34m\u001b[0m\u001b[0m\n\u001b[1;32m     20\u001b[0m             \u001b[0mstack\u001b[0m\u001b[0;34m-=\u001b[0m\u001b[0;34m\")\"\u001b[0m\u001b[0;34m\u001b[0m\u001b[0;34m\u001b[0m\u001b[0m\n\u001b[0;32m---> 21\u001b[0;31m         \u001b[0mbacktrack\u001b[0m\u001b[0;34m(\u001b[0m\u001b[0;36m0\u001b[0m\u001b[0;34m,\u001b[0m\u001b[0;36m0\u001b[0m\u001b[0;34m)\u001b[0m\u001b[0;34m\u001b[0m\u001b[0;34m\u001b[0m\u001b[0m\n\u001b[0m\u001b[1;32m     22\u001b[0m         \u001b[0;32mreturn\u001b[0m \u001b[0mres\u001b[0m\u001b[0;34m\u001b[0m\u001b[0;34m\u001b[0m\u001b[0m\n\u001b[1;32m     23\u001b[0m \u001b[0;34m\u001b[0m\u001b[0m\n",
            "\u001b[0;32m<ipython-input-4-5b8efb5eadbf>\u001b[0m in \u001b[0;36mbacktrack\u001b[0;34m(openn, closedn)\u001b[0m\n\u001b[1;32m     12\u001b[0m             \u001b[0;32mreturn\u001b[0m\u001b[0;34m\u001b[0m\u001b[0;34m\u001b[0m\u001b[0m\n\u001b[1;32m     13\u001b[0m           \u001b[0;32mif\u001b[0m \u001b[0mopenn\u001b[0m\u001b[0;34m<\u001b[0m\u001b[0mn\u001b[0m\u001b[0;34m:\u001b[0m\u001b[0;34m\u001b[0m\u001b[0;34m\u001b[0m\u001b[0m\n\u001b[0;32m---> 14\u001b[0;31m             \u001b[0mstack\u001b[0m \u001b[0;34m+=\u001b[0m \u001b[0;34m\"(\"\u001b[0m\u001b[0;34m\u001b[0m\u001b[0;34m\u001b[0m\u001b[0m\n\u001b[0m\u001b[1;32m     15\u001b[0m             \u001b[0mbacktrack\u001b[0m\u001b[0;34m(\u001b[0m\u001b[0mopenn\u001b[0m\u001b[0;34m+\u001b[0m\u001b[0;36m1\u001b[0m\u001b[0;34m,\u001b[0m\u001b[0mclosedn\u001b[0m\u001b[0;34m)\u001b[0m\u001b[0;34m\u001b[0m\u001b[0;34m\u001b[0m\u001b[0m\n\u001b[1;32m     16\u001b[0m             \u001b[0mstack\u001b[0m\u001b[0;34m-=\u001b[0m\u001b[0;34m\"(\"\u001b[0m\u001b[0;34m\u001b[0m\u001b[0;34m\u001b[0m\u001b[0m\n",
            "\u001b[0;31mUnboundLocalError\u001b[0m: local variable 'stack' referenced before assignment"
          ]
        }
      ]
    },
    {
      "cell_type": "markdown",
      "source": [
        "# 23.Merge k Sorted Lists"
      ],
      "metadata": {
        "id": "nqU_qGCnGbUD"
      }
    },
    {
      "cell_type": "code",
      "source": [
        "# Definition for singly-linked list.\n",
        "# class ListNode(object):\n",
        "#     def __init__(self, val=0, next=None):\n",
        "#         self.val = val\n",
        "#         self.next = next\n",
        "class Solution(object):\n",
        "    def mergeKLists(self, lists):\n",
        "        \"\"\"\n",
        "        :type lists: List[ListNode]\n",
        "        :rtype: ListNode\n",
        "        \"\"\"\n",
        "        list1= []\n",
        "        n = 0\n",
        "        for listN in lists:\n",
        "          while listN:\n",
        "            list1.append(listN.val)\n",
        "            listN += listN.next\n",
        "        list1 = list1.sorted()\n",
        "        res = ListNode()\n",
        "        for value in list1:\n",
        "          res.val = value\n",
        "          res.next = list1[n+1]\n",
        "        return list1\n",
        "\n",
        "\n"
      ],
      "metadata": {
        "id": "jw-XVDNWGf5F"
      },
      "execution_count": null,
      "outputs": []
    },
    {
      "cell_type": "markdown",
      "source": [
        "# 24. Swap Nodes in Pairs"
      ],
      "metadata": {
        "id": "KT8hmDiilyVb"
      }
    },
    {
      "cell_type": "code",
      "source": [
        "#Definition for singly-linked list.\n",
        "# class ListNode(object):\n",
        "#     def __init__(self, val=0, next=None):\n",
        "#         self.val = val\n",
        "#         self.next = next\n",
        "class Solution(object):\n",
        "    def swapPairs(self, head):\n",
        "        \"\"\"\n",
        "        :type head: ListNode\n",
        "        :rtype: ListNode\n",
        "        \"\"\"\n",
        "        first = ListNode()\n",
        "        f = first\n",
        "        second = ListNode()\n",
        "        s = second\n",
        "        n=0\n",
        "        while head:\n",
        "          if n%2 == 0:\n",
        "            f.next = head\n",
        "            f = f.next\n",
        "          elif n%2 != 0:\n",
        "            s.next = head\n",
        "            s = s.next\n",
        "          head = head.next\n",
        "          n+=1\n",
        "        output = ListNode()\n",
        "        dummy = output\n",
        "        n = 0\n",
        "        l = first.next\n",
        "        r = second.next\n",
        "        while l and r:\n",
        "            if n % 2 == 0:\n",
        "                dummy.next = r\n",
        "                r = r.next\n",
        "                dummy = dummy.next\n",
        "                n += 1\n",
        "            else:\n",
        "                dummy.next = l\n",
        "                l = l.next\n",
        "                dummy = dummy.next\n",
        "                n += 1\n",
        "\n",
        "\n",
        "        return first.next\n"
      ],
      "metadata": {
        "id": "PWWP9X4xlyID"
      },
      "execution_count": null,
      "outputs": []
    },
    {
      "cell_type": "code",
      "source": [
        "5%2"
      ],
      "metadata": {
        "colab": {
          "base_uri": "https://localhost:8080/"
        },
        "id": "aYVbYM_Ktowa",
        "outputId": "5153c599-c168-4b0b-9730-780ba18cec52"
      },
      "execution_count": null,
      "outputs": [
        {
          "output_type": "execute_result",
          "data": {
            "text/plain": [
              "1"
            ]
          },
          "metadata": {},
          "execution_count": 7
        }
      ]
    },
    {
      "cell_type": "markdown",
      "source": [
        "# 25 Reverse Nodes in k-Group"
      ],
      "metadata": {
        "id": "xOWMAfD6UFq9"
      }
    },
    {
      "cell_type": "code",
      "source": [
        "# Definition for singly-linked list.\n",
        "# class ListNode(object):\n",
        "#     def __init__(self, val=0, next=None):\n",
        "#         self.val = val\n",
        "#         self.next = next\n",
        "class Solution(object):\n",
        "    def reverseKGroup(self, head, k):\n",
        "        \"\"\"\n",
        "        :type head: ListNode\n",
        "        :type k: int\n",
        "        :rtype: ListNode\n",
        "        \"\"\"\n",
        "        def getlist(head,k):\n",
        "          n=1\n",
        "          dummy = ListNode(0,head)\n",
        "          output = dummy\n",
        "          while n<k:\n",
        "            head = head.next\n",
        "            n+=1\n",
        "          output.next = head\n",
        "          output=output.next\n",
        "          output.next = None\n",
        "          return output\n",
        "\n",
        "        reverse= ListNode()\n",
        "        pointer = reverse\n",
        "        dummy = ListNode()\n",
        "        group = dummy\n",
        "        standard = k\n",
        "        while head:\n",
        "          k = standard\n",
        "          while k>0:\n",
        "                if head:\n",
        "                    group.next = head\n",
        "                    head = head.next\n",
        "                    group = group.next\n",
        "                    k -= 1\n",
        "                else:\n",
        "                    break\n",
        "            if k == 0:\n",
        "                group.next=None\n",
        "                while k<standard:\n",
        "                    k+=1\n",
        "                    pointer.next=getlist(dummy.next,standard-k+1)\n",
        "                    pointer=pointer.next\n",
        "            else:\n",
        "                pointer.next = head\n",
        "                return reverse.next\n",
        "        return reverse.next\n"
      ],
      "metadata": {
        "id": "6p1m4T5LUFVQ"
      },
      "execution_count": null,
      "outputs": []
    },
    {
      "cell_type": "markdown",
      "source": [
        "# 26. Remove duplicates from sorted array"
      ],
      "metadata": {
        "id": "w60kaFir0eQ7"
      }
    },
    {
      "cell_type": "code",
      "source": [
        "from os import EX_OSFILE\n",
        "class Solution(object):\n",
        "    def removeDuplicates(self, nums):\n",
        "        \"\"\"\n",
        "        :type nums: List[int]\n",
        "        :rtype: int\n",
        "        \"\"\"\n",
        "        if len(nums)>=1:\n",
        "          rep = 0\n",
        "          res = [nums[0]]\n",
        "          n = 0\n",
        "          while n <= len(nums)-1:\n",
        "            if nums[n] != res[len(res)-1]:\n",
        "              res.append[nums[n]]\n",
        "            else:\n",
        "              rep+=1\n",
        "            n+=1\n",
        "          k= len(res)\n",
        "          res = res+[\"_\"]*rep\n",
        "          return k, res\n",
        "        else:\n",
        "          return 0,nums\n",
        "\n",
        "\n"
      ],
      "metadata": {
        "colab": {
          "base_uri": "https://localhost:8080/",
          "height": 105
        },
        "id": "s231c0Y70d2D",
        "outputId": "bcc8b29a-2bbc-4ed1-8c78-60d85ebe8e71"
      },
      "execution_count": 1,
      "outputs": [
        {
          "output_type": "error",
          "ename": "SyntaxError",
          "evalue": "incomplete input (<ipython-input-1-d63aa0da6d71>, line 11)",
          "traceback": [
            "\u001b[0;36m  File \u001b[0;32m\"<ipython-input-1-d63aa0da6d71>\"\u001b[0;36m, line \u001b[0;32m11\u001b[0m\n\u001b[0;31m    if nums[n] not in res:\u001b[0m\n\u001b[0m                          ^\u001b[0m\n\u001b[0;31mSyntaxError\u001b[0m\u001b[0;31m:\u001b[0m incomplete input\n"
          ]
        }
      ]
    },
    {
      "cell_type": "code",
      "source": [
        "[1,2,'n']+[\"_\"]*3"
      ],
      "metadata": {
        "colab": {
          "base_uri": "https://localhost:8080/"
        },
        "id": "8uZpkq6w1Wmt",
        "outputId": "c3c8dcd9-0576-4850-ae06-4055dc5e107a"
      },
      "execution_count": 5,
      "outputs": [
        {
          "output_type": "execute_result",
          "data": {
            "text/plain": [
              "[1, 2, 'n', '_', '_', '_']"
            ]
          },
          "metadata": {},
          "execution_count": 5
        }
      ]
    },
    {
      "cell_type": "markdown",
      "source": [
        "# 27.Remove Element"
      ],
      "metadata": {
        "id": "GS8ELmt8H0-3"
      }
    },
    {
      "cell_type": "code",
      "source": [
        "class Solution(object):\n",
        "    def removeElement(self, nums, val):\n",
        "        \"\"\"\n",
        "        :type nums: List[int]\n",
        "        :type val: int\n",
        "        :rtype: int\n",
        "        \"\"\"\n",
        "        k=0\n",
        "        for index, num in enumerate(nums):\n",
        "          if num==val:\n",
        "            nums.pop(index)\n",
        "            k+=1\n",
        "        return k+1"
      ],
      "metadata": {
        "id": "dhGoIshMH3K0"
      },
      "execution_count": null,
      "outputs": []
    }
  ],
  "metadata": {
    "kernelspec": {
      "display_name": "pda-ie",
      "language": "python",
      "name": "python3"
    },
    "language_info": {
      "codemirror_mode": {
        "name": "ipython",
        "version": 3
      },
      "file_extension": ".py",
      "mimetype": "text/x-python",
      "name": "python",
      "nbconvert_exporter": "python",
      "pygments_lexer": "ipython3",
      "version": "3.11.7"
    },
    "orig_nbformat": 4,
    "colab": {
      "provenance": [],
      "include_colab_link": true
    }
  },
  "nbformat": 4,
  "nbformat_minor": 0
}